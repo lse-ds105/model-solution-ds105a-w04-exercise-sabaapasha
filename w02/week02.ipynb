{
 "cells": [
  {
   "cell_type": "markdown",
   "metadata": {},
   "source": [
    "# **My Week 02 Notes**\n",
    "This notebook contains my notes on everything I covered in **Week 02** of DS105A.\n",
    "## Contents:\n",
    "- Terminal Commands\n",
    "    - curl (Client URL)\n",
    "    - cat\n",
    "    - head\n",
    "    - tail\n",
    "    - wc (Word Count)\n",
    "- Saving Data to a .json File"
   ]
  },
  {
   "cell_type": "markdown",
   "metadata": {},
   "source": [
    "## Terminal Commands\n",
    "Since this is a Jupyter Notebook, I will have to use the ! operator to run certain terminal commands (e.g. curl).\n",
    "\n",
    "The ! operator indicates that line following it should be a terminal command, **not** python code!\n",
    "### curl (Client URL)\n",
    "The curl command allows users to transfer data to and from servers. It can be used to download a file or the contents of a webpage.\n",
    "\n",
    "In my first example, I'm going to use the curl command to download a picture of baklava and save it to the \"figures\" folder I created earlier:"
   ]
  },
  {
   "cell_type": "code",
   "execution_count": null,
   "metadata": {},
   "outputs": [],
   "source": [
    "import requests\n",
    "import json"
   ]
  },
  {
   "cell_type": "code",
   "execution_count": null,
   "metadata": {},
   "outputs": [],
   "source": [
    "!curl https://upload.wikimedia.org/wikipedia/commons/c/c7/Baklava%281%29.png > ../figures/baklava.png"
   ]
  },
  {
   "cell_type": "markdown",
   "metadata": {},
   "source": [
    "For my next example, I'll use curl to download a random csv file that I generated. \n",
    "\n",
    "I will save this file into my \"practice_data\" folder:"
   ]
  },
  {
   "cell_type": "code",
   "execution_count": null,
   "metadata": {},
   "outputs": [],
   "source": [
    "!curl https://retoolapi.dev/9c7rGf/sabaa_data > ../practice_data/random_data.csv"
   ]
  },
  {
   "cell_type": "markdown",
   "metadata": {},
   "source": [
    "Finally, here's an API that generates a random joke!"
   ]
  },
  {
   "cell_type": "code",
   "execution_count": null,
   "metadata": {},
   "outputs": [],
   "source": [
    "!curl https://official-joke-api.appspot.com/random_joke"
   ]
  },
  {
   "cell_type": "markdown",
   "metadata": {},
   "source": [
    "### cat\n",
    "The purpose of the cat command is to display the content of a file on the terminal.\n",
    "\n",
    "Let's view the content of the csv file I downloaded earlier:\n"
   ]
  },
  {
   "cell_type": "code",
   "execution_count": null,
   "metadata": {},
   "outputs": [],
   "source": [
    "cat ../practice_data/random_data.csv"
   ]
  },
  {
   "cell_type": "markdown",
   "metadata": {},
   "source": [
    "### head\n",
    "The head command displays the first 10 lines of a file:"
   ]
  },
  {
   "cell_type": "code",
   "execution_count": null,
   "metadata": {},
   "outputs": [],
   "source": [
    "!head ../practice_data/random_data.csv"
   ]
  },
  {
   "cell_type": "markdown",
   "metadata": {},
   "source": [
    "The command can be modified to show a different amount of lines.\n",
    "\n",
    "Below is a command to show the first 13 lines of the file:"
   ]
  },
  {
   "cell_type": "code",
   "execution_count": null,
   "metadata": {},
   "outputs": [],
   "source": [
    "!head -n 13 ../practice_data/random_data.csv"
   ]
  },
  {
   "cell_type": "markdown",
   "metadata": {},
   "source": [
    "### tail\n",
    "The opposite of the head command. It displays the last 10 lines of a file:"
   ]
  },
  {
   "cell_type": "code",
   "execution_count": null,
   "metadata": {},
   "outputs": [],
   "source": [
    "!tail ../practice_data/random_data.csv"
   ]
  },
  {
   "cell_type": "markdown",
   "metadata": {},
   "source": [
    "Same concept as the head command, except it's the last 13 lines:"
   ]
  },
  {
   "cell_type": "code",
   "execution_count": null,
   "metadata": {},
   "outputs": [],
   "source": [
    "!tail -n 13 ../practice_data/random_data.csv"
   ]
  },
  {
   "cell_type": "markdown",
   "metadata": {},
   "source": [
    "### wc (Word Count)\n",
    "This command can be used to count the number of lines in a file:"
   ]
  },
  {
   "cell_type": "code",
   "execution_count": null,
   "metadata": {},
   "outputs": [],
   "source": [
    "!wc -l ../practice_data/random_data.csv"
   ]
  },
  {
   "cell_type": "markdown",
   "metadata": {},
   "source": [
    "It can also be used to count the number of words:"
   ]
  },
  {
   "cell_type": "code",
   "execution_count": null,
   "metadata": {},
   "outputs": [],
   "source": [
    "!wc -w ../practice_data/random_data.csv"
   ]
  },
  {
   "cell_type": "markdown",
   "metadata": {},
   "source": [
    "## Saving Data to a .json File"
   ]
  }
 ],
 "metadata": {
  "kernelspec": {
   "display_name": "base",
   "language": "python",
   "name": "python3"
  },
  "language_info": {
   "codemirror_mode": {
    "name": "ipython",
    "version": 3
   },
   "file_extension": ".py",
   "mimetype": "text/x-python",
   "name": "python",
   "nbconvert_exporter": "python",
   "pygments_lexer": "ipython3",
   "version": "3.11.8"
  }
 },
 "nbformat": 4,
 "nbformat_minor": 2
}
