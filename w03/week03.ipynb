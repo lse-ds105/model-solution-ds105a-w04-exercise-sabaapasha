{
 "cells": [
  {
   "cell_type": "markdown",
   "metadata": {},
   "source": [
    "# **My Week 03 Notes**\n",
    "This notebook contains my notes on everything I covered in **Week 03** of DS105A.\n",
    "\n",
    "For this notebook, I will follow the structure of the **W03 Formative** and **W03 Lab** to collect temperature data from the **OpenMetoAPI**. \n",
    "## Contents:\n",
    "- Collecting Data Using API's\n",
    "    - Automated Data Collection\n",
    "    - Storing Data to a Dictionary\n",
    "    - Saving to a .json File\n",
    "- Data Analysis and Visualisation\n",
    "    - Abu Dhabi\n",
    "    - Madrid\n",
    "    - Comparison\n"
   ]
  },
  {
   "cell_type": "markdown",
   "metadata": {},
   "source": [
    "## Collecting Data Using API's\n",
    "URL: `https://api.open-meteo.com/v1/forecast`\n",
    "\n",
    "I will use this URL to retrieve today's forecast data for 2 cities: Abu Dhabi and Madrid\n",
    "\n",
    "First,"
   ]
  },
  {
   "cell_type": "code",
   "execution_count": null,
   "metadata": {},
   "outputs": [],
   "source": [
    "import os\n",
    "import json\n",
    "\n",
    "import requests\n",
    "\n",
    "import pandas as pd"
   ]
  },
  {
   "cell_type": "markdown",
   "metadata": {},
   "source": [
    "### Automated Data Collection\n",
    "Define"
   ]
  },
  {
   "cell_type": "code",
   "execution_count": null,
   "metadata": {},
   "outputs": [],
   "source": [
    "def get_forecast_data(latitude, longitude, start_date, end_date):\n",
    "\n",
    "    base_forecast_url = \"https://archive-api.open-meteo.com/v1/archive?\"\n",
    "    params_lat_long = \"latitude=\" + str(latitude) + \"&longitude=\"  + str(longitude)\n",
    "    params_others = \"&start_date=\" + start_date + \"&end_date=\" + end_date + \"&daily=temperature_2m_max,temperature_2m_min\" + \"&timezone=auto\"\n",
    "\n",
    "    final_url = base_forecast_url + params_lat_long + params_others\n",
    "\n",
    "    response = requests.get(final_url)\n",
    "\n",
    "    response\n",
    "\n",
    "    response.status_code\n",
    "    response.content\n",
    "\n",
    "    forecast_data = response.json()\n",
    "    forecast_temperatures = forecast_data['daily']\n",
    "    return forecast_temperatures"
   ]
  },
  {
   "cell_type": "code",
   "execution_count": null,
   "metadata": {},
   "outputs": [],
   "source": [
    "def get_lat_lon(country_code, city):\n",
    "    \n",
    "    filepath = './world_cities.csv'\n",
    "    world_cities = pd.read_csv(filepath)\n",
    "\n",
    "    city_data = world_cities[(world_cities['country'] == country_code) & \n",
    "                             (world_cities['name'] == city)]\n",
    "    \n",
    "    city_data = city_data.to_dict('records')\n",
    "    \n",
    "    if len(city_data) == 0:\n",
    "        raise ValueError(f\"No records found for {city}, {country_code} in {filepath}\")\n",
    "\n",
    "    latitude = city_data[0]['lat']\n",
    "    longitude = city_data[0]['lng']\n",
    "\n",
    "    return latitude, longitude"
   ]
  },
  {
   "cell_type": "markdown",
   "metadata": {},
   "source": [
    "Retrieving **Abu Dhabi's** temperature data:"
   ]
  },
  {
   "cell_type": "code",
   "execution_count": null,
   "metadata": {},
   "outputs": [],
   "source": [
    "latitude, longitude = get_lat_lon('AE', 'Abu Dhabi')\n",
    "print(latitude, longitude)"
   ]
  },
  {
   "cell_type": "code",
   "execution_count": null,
   "metadata": {},
   "outputs": [],
   "source": [
    "get_forecast_data(latitude=24.45118, longitude=54.39696, start_date=\"2023-01-01\", end_date=\"2023-12-31\")"
   ]
  },
  {
   "cell_type": "markdown",
   "metadata": {},
   "source": [
    "Retrieving **Madrid's** temperature data:"
   ]
  },
  {
   "cell_type": "code",
   "execution_count": null,
   "metadata": {},
   "outputs": [],
   "source": [
    "latitude, longitude = get_lat_lon('ES', 'Madrid')\n",
    "print(latitude, longitude)"
   ]
  },
  {
   "cell_type": "code",
   "execution_count": null,
   "metadata": {},
   "outputs": [],
   "source": [
    "get_forecast_data(latitude=40.4165, longitude=-3.70256, start_date=\"2023-01-01\", end_date=\"2023-12-31\")"
   ]
  },
  {
   "cell_type": "markdown",
   "metadata": {},
   "source": [
    "### Storing Data to a Dictionary"
   ]
  },
  {
   "cell_type": "code",
   "execution_count": null,
   "metadata": {},
   "outputs": [],
   "source": [
    "abudhabi_temperatures = get_forecast_data(latitude=24.45118, longitude=54.39696, start_date=\"2023-01-01\", end_date=\"2023-12-31\")\n",
    "madrid_temperatures = get_forecast_data(latitude=40.4165, longitude=-3.70256, start_date=\"2023-01-01\", end_date=\"2023-12-31\")"
   ]
  },
  {
   "cell_type": "markdown",
   "metadata": {},
   "source": [
    "Creating a dictionary for **Abu Dhabi**:"
   ]
  },
  {
   "cell_type": "code",
   "execution_count": null,
   "metadata": {},
   "outputs": [],
   "source": [
    "country1 = 'AE'\n",
    "city1 = 'Abu Dhabi'\n",
    "date1 = abudhabi_temperatures['time']\n",
    "min_temp1 = abudhabi_temperatures['temperature_2m_min']\n",
    "max_temp1 = abudhabi_temperatures['temperature_2m_max']"
   ]
  },
  {
   "cell_type": "code",
   "execution_count": null,
   "metadata": {},
   "outputs": [],
   "source": [
    "abudhabi_data = {\"Country\": country1, \"City\": city1, \"Date\": date1, \"Minimum Temperature\": min_temp1, \"Maximum Temperature\": max_temp1}"
   ]
  },
  {
   "cell_type": "markdown",
   "metadata": {},
   "source": [
    "Creating a dictionary for **Madrid**:"
   ]
  },
  {
   "cell_type": "code",
   "execution_count": null,
   "metadata": {},
   "outputs": [],
   "source": [
    "country2 = 'ES'\n",
    "city2 = 'Madrid'\n",
    "date2 = madrid_temperatures['time']\n",
    "min_temp2 = madrid_temperatures['temperature_2m_min']\n",
    "max_temp2 = madrid_temperatures['temperature_2m_max']"
   ]
  },
  {
   "cell_type": "code",
   "execution_count": null,
   "metadata": {},
   "outputs": [],
   "source": [
    "madrid_data = {\"Country\": country2, \"City\": city2, \"Date\": date2, \"Minimum Temperature\": min_temp2, \"Maximum Temperature\": max_temp2}"
   ]
  },
  {
   "cell_type": "markdown",
   "metadata": {},
   "source": [
    "## Saving Data to a .json File"
   ]
  },
  {
   "cell_type": "code",
   "execution_count": null,
   "metadata": {},
   "outputs": [],
   "source": [
    "with open(\"./abudhabi_temperatures.json\", \"w\") as file:\n",
    "    json.dump(abudhabi_data, file)"
   ]
  },
  {
   "cell_type": "code",
   "execution_count": null,
   "metadata": {},
   "outputs": [],
   "source": [
    "with open(\"./madrid_temperatures.json\", \"w\") as file:\n",
    "    json.dump(madrid_data, file)"
   ]
  },
  {
   "cell_type": "markdown",
   "metadata": {},
   "source": [
    "## Data Analysis and Visualisation\n",
    "### Abu Dhabi\n"
   ]
  },
  {
   "cell_type": "code",
   "execution_count": null,
   "metadata": {},
   "outputs": [],
   "source": [
    "with open('./abudhabi_temperatures.json') as f:\n",
    "    data1 = json.load(f)\n",
    "\n",
    "df1 = pd.DataFrame(data1)"
   ]
  },
  {
   "cell_type": "code",
   "execution_count": null,
   "metadata": {},
   "outputs": [],
   "source": [
    "df1.head()"
   ]
  },
  {
   "cell_type": "code",
   "execution_count": null,
   "metadata": {},
   "outputs": [],
   "source": [
    "df1.tail()"
   ]
  },
  {
   "cell_type": "code",
   "execution_count": null,
   "metadata": {},
   "outputs": [],
   "source": [
    "df1.plot(x='Date', y=['Minimum Temperature', 'Maximum Temperature'], figsize=(12, 6))"
   ]
  },
  {
   "cell_type": "markdown",
   "metadata": {},
   "source": [
    "### Madrid"
   ]
  },
  {
   "cell_type": "code",
   "execution_count": null,
   "metadata": {},
   "outputs": [],
   "source": [
    "with open('./madrid_temperatures.json') as f:\n",
    "    data2 = json.load(f)\n",
    "\n",
    "df2 = pd.DataFrame(data2)"
   ]
  },
  {
   "cell_type": "code",
   "execution_count": null,
   "metadata": {},
   "outputs": [],
   "source": [
    "df2.head()"
   ]
  },
  {
   "cell_type": "code",
   "execution_count": null,
   "metadata": {},
   "outputs": [],
   "source": [
    "df2.tail()"
   ]
  },
  {
   "cell_type": "code",
   "execution_count": null,
   "metadata": {},
   "outputs": [],
   "source": [
    "df2.plot(x='Date', y=['Minimum Temperature', 'Maximum Temperature'], figsize=(12, 6))"
   ]
  },
  {
   "cell_type": "markdown",
   "metadata": {},
   "source": [
    "### Comparison"
   ]
  }
 ],
 "metadata": {
  "kernelspec": {
   "display_name": "base",
   "language": "python",
   "name": "python3"
  },
  "language_info": {
   "codemirror_mode": {
    "name": "ipython",
    "version": 3
   },
   "file_extension": ".py",
   "mimetype": "text/x-python",
   "name": "python",
   "nbconvert_exporter": "python",
   "pygments_lexer": "ipython3",
   "version": "3.11.8"
  }
 },
 "nbformat": 4,
 "nbformat_minor": 2
}
