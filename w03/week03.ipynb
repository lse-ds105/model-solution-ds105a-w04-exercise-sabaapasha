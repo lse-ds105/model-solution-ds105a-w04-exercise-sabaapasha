{
 "cells": [
  {
   "cell_type": "markdown",
   "metadata": {},
   "source": [
    "# **My Week 03 Notes**\n",
    "This notebook contains my notes on everything I covered in **Week 03** of DS105A.\n",
    "\n",
    "For this notebook, I will follow the structure of the **W03 Formative** and collect data from the **OpenMeteoAPI**.\n",
    "## Contents:\n",
    "- Collecting Data From APIs Using Python\n",
    "- Automated Data Collection\n",
    "    - Present Data\n",
    "    - Historical Data\n",
    "- Comparing Data\n"
   ]
  }
 ],
 "metadata": {
  "language_info": {
   "name": "python"
  }
 },
 "nbformat": 4,
 "nbformat_minor": 2
}
