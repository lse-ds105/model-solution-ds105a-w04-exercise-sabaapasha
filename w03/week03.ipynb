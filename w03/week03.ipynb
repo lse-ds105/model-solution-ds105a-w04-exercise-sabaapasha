{
 "cells": [
  {
   "cell_type": "markdown",
   "metadata": {},
   "source": [
    "# **My Week 03 Notes**\n",
    "This notebook contains my notes on everything I covered in **Week 03** of DS105A.\n",
    "\n",
    "For this notebook, I will follow the structure of the **W03 Formative** and **W03 Lab** to collect temperature data from the **OpenMetoAPI**. \n",
    "## Contents:\n",
    "- Collecting Data Using API's\n",
    "    - Automated Data Collection\n",
    "    - Storing Data to a Dictionary\n",
    "    - Saving to a .json File\n",
    "- Data Visualisation\n",
    "    - Abu Dhabi\n",
    "    - Madrid\n"
   ]
  },
  {
   "cell_type": "markdown",
   "metadata": {},
   "source": [
    "## Imports"
   ]
  },
  {
   "cell_type": "code",
   "execution_count": null,
   "metadata": {},
   "outputs": [],
   "source": [
    "import os\n",
    "import json\n",
    "\n",
    "import requests\n",
    "\n",
    "import pandas as pd"
   ]
  },
  {
   "cell_type": "markdown",
   "metadata": {},
   "source": [
    "## Collecting Data Using API's\n",
    "URL: `https://api.open-meteo.com/v1/forecast`\n",
    "\n",
    "I will use this URL to retrieve historical forecast data for 2 cities: Abu Dhabi and Madrid.\n",
    "\n",
    "My aim is to create a visualisation for the daily minimum and maximum temperatures from 01/01/2023-31/12/2023 for both locations.\n",
    "\n",
    "I will also be using the world_cities.csv file to automatically collect the latitudes and longitudes of both cities."
   ]
  },
  {
   "cell_type": "markdown",
   "metadata": {},
   "source": [
    "### Automated Data Collection\n",
    "It is very tedious to rewrite the same code over and over again.\n",
    "\n",
    "It is possible to define functions in Python that automate repetitive tasks (credit to DS105 team).\n",
    "\n",
    "The function below read the world cities data from the world_cities.csv file and returns the latitude and longitude of the desired city:"
   ]
  },
  {
   "cell_type": "code",
   "execution_count": null,
   "metadata": {},
   "outputs": [],
   "source": [
    "def get_lat_lon(country_code, city):\n",
    "    \n",
    "    filepath = './world_cities.csv'\n",
    "    world_cities = pd.read_csv(filepath)\n",
    "\n",
    "    city_data = world_cities[(world_cities['country'] == country_code) & \n",
    "                             (world_cities['name'] == city)]\n",
    "    \n",
    "    city_data = city_data.to_dict('records')\n",
    "    \n",
    "    if len(city_data) == 0:\n",
    "        raise ValueError(f\"No records found for {city}, {country_code} in {filepath}\")\n",
    "\n",
    "    latitude = city_data[0]['lat']\n",
    "    longitude = city_data[0]['lng']\n",
    "\n",
    "    return latitude, longitude"
   ]
  },
  {
   "cell_type": "markdown",
   "metadata": {},
   "source": [
    "This function returns the temperature data for a given location just by passing it the latitude and longitude:\n",
    "\n",
    "(**Note**: This is the get_forecast_data function found in the W03 formative)"
   ]
  },
  {
   "cell_type": "code",
   "execution_count": null,
   "metadata": {},
   "outputs": [],
   "source": [
    "def get_temperature_data(latitude, longitude, start_date, end_date):\n",
    "\n",
    "    base_forecast_url = \"https://archive-api.open-meteo.com/v1/archive?\"\n",
    "    params_lat_long = \"latitude=\" + str(latitude) + \"&longitude=\"  + str(longitude)\n",
    "    params_others = \"&start_date=\" + start_date + \"&end_date=\" + end_date + \"&daily=temperature_2m_max,temperature_2m_min\" + \"&timezone=auto\"\n",
    "\n",
    "    final_url = base_forecast_url + params_lat_long + params_others\n",
    "\n",
    "    response = requests.get(final_url)\n",
    "\n",
    "    response\n",
    "\n",
    "    response.status_code\n",
    "    response.content\n",
    "\n",
    "    forecast_data = response.json()\n",
    "    forecast_temperatures = forecast_data['daily']\n",
    "    return forecast_temperatures"
   ]
  },
  {
   "cell_type": "markdown",
   "metadata": {},
   "source": [
    "Retrieving **Abu Dhabi's** temperature data:\n",
    "\n",
    "1) I found the latitude and longitude of Abu Dhabi using the get_lat_lon function\n",
    "\n",
    "2) Then, I used the get_temperature_data function to fetch Abu Dhabi's temperatures"
   ]
  },
  {
   "cell_type": "code",
   "execution_count": null,
   "metadata": {},
   "outputs": [],
   "source": [
    "latitude, longitude = get_lat_lon(\"AE\", \"Abu Dhabi\")\n",
    "print(latitude, longitude)"
   ]
  },
  {
   "cell_type": "code",
   "execution_count": null,
   "metadata": {},
   "outputs": [],
   "source": [
    "get_temperature_data(latitude=24.45118, longitude=54.39696, start_date=\"2023-01-01\", end_date=\"2023-12-31\")"
   ]
  },
  {
   "cell_type": "markdown",
   "metadata": {},
   "source": [
    "Retrieving **Madrid's** temperature data:\n",
    "\n",
    "The same steps apply for Madrid!"
   ]
  },
  {
   "cell_type": "code",
   "execution_count": null,
   "metadata": {},
   "outputs": [],
   "source": [
    "latitude, longitude = get_lat_lon(\"ES\", \"Madrid\")\n",
    "print(latitude, longitude)"
   ]
  },
  {
   "cell_type": "code",
   "execution_count": null,
   "metadata": {},
   "outputs": [],
   "source": [
    "get_temperature_data(latitude=40.4165, longitude=-3.70256, start_date=\"2023-01-01\", end_date=\"2023-12-31\")"
   ]
  },
  {
   "cell_type": "markdown",
   "metadata": {},
   "source": [
    "### Storing Data to a Dictionary"
   ]
  },
  {
   "cell_type": "markdown",
   "metadata": {},
   "source": [
    "Creating a dictionary for **Abu Dhabi**\n",
    "\n",
    "I created a variable for Abu Dhabi's temperatures between 01/01/2023 and 31/12/2023:"
   ]
  },
  {
   "cell_type": "code",
   "execution_count": null,
   "metadata": {},
   "outputs": [],
   "source": [
    "abudhabi_temperatures = get_temperature_data(latitude=24.45118, longitude=54.39696, start_date=\"2023-01-01\", end_date=\"2023-12-31\")"
   ]
  },
  {
   "cell_type": "markdown",
   "metadata": {},
   "source": [
    "I then defined Abu Dhabi's location details - The country code as 'AE' and the city as 'Abu Dhabi'.\n",
    "\n",
    "I also defined the dates, as well as the minimum and maximum temperatures by using the abudhabi_temperatures variable:"
   ]
  },
  {
   "cell_type": "code",
   "execution_count": null,
   "metadata": {},
   "outputs": [],
   "source": [
    "country = \"AE\"\n",
    "city = \"Abu Dhabi\"\n",
    "date = abudhabi_temperatures[\"time\"]\n",
    "min_temp = abudhabi_temperatures[\"temperature_2m_min\"]\n",
    "max_temp = abudhabi_temperatures[\"temperature_2m_max\"]"
   ]
  },
  {
   "cell_type": "markdown",
   "metadata": {},
   "source": [
    "Lastly, I created a dictionary to organise the data.\n",
    "\n",
    "The country and city keys store the location information.\n",
    "\n",
    "Date, Minimum Temperature, and Maximum Temperature store lists of dates and temperature values, making it easier to display the data:"
   ]
  },
  {
   "cell_type": "code",
   "execution_count": null,
   "metadata": {},
   "outputs": [],
   "source": [
    "abudhabi_data = {\"Country\": country, \"City\": city, \"Date\": date, \"Minimum Temperature\": min_temp, \"Maximum Temperature\": max_temp}"
   ]
  },
  {
   "cell_type": "markdown",
   "metadata": {},
   "source": [
    "Creating a dictionary for **Madrid**:\n",
    "\n",
    "Aaand repeat"
   ]
  },
  {
   "cell_type": "code",
   "execution_count": null,
   "metadata": {},
   "outputs": [],
   "source": [
    "madrid_temperatures = get_temperature_data(latitude=40.4165, longitude=-3.70256, start_date=\"2023-01-01\", end_date=\"2023-12-31\")\n",
    "country = \"ES\"\n",
    "city = \"Madrid\"\n",
    "date = madrid_temperatures[\"time\"]\n",
    "min_temp = madrid_temperatures[\"temperature_2m_min\"]\n",
    "max_temp = madrid_temperatures[\"temperature_2m_max\"]"
   ]
  },
  {
   "cell_type": "code",
   "execution_count": null,
   "metadata": {},
   "outputs": [],
   "source": [
    "madrid_data = {\"Country\": country, \"City\": city, \"Date\": date, \"Minimum Temperature\": min_temp, \"Maximum Temperature\": max_temp}"
   ]
  },
  {
   "cell_type": "markdown",
   "metadata": {},
   "source": [
    "## Saving Data to a .json File"
   ]
  },
  {
   "cell_type": "markdown",
   "metadata": {},
   "source": [
    "Saving the **Abu Dhabi** dictionary:"
   ]
  },
  {
   "cell_type": "code",
   "execution_count": null,
   "metadata": {},
   "outputs": [],
   "source": [
    "with open(\"./abudhabi_temperatures.json\", \"w\") as file:\n",
    "    json.dump(abudhabi_data, file)"
   ]
  },
  {
   "cell_type": "markdown",
   "metadata": {},
   "source": [
    "Saving the **Madrid** dictionary:"
   ]
  },
  {
   "cell_type": "code",
   "execution_count": null,
   "metadata": {},
   "outputs": [],
   "source": [
    "with open(\"./madrid_temperatures.json\", \"w\") as file:\n",
    "    json.dump(madrid_data, file)"
   ]
  },
  {
   "cell_type": "markdown",
   "metadata": {},
   "source": [
    "## Data Visualisation\n",
    "In this section, I will create tables and graphs for each city's data using pandas DataFrame."
   ]
  },
  {
   "cell_type": "markdown",
   "metadata": {},
   "source": [
    "### Abu Dhabi\n",
    "Loading Abu Dhabi's data and creating a DataFrame from the dictionary:"
   ]
  },
  {
   "cell_type": "code",
   "execution_count": null,
   "metadata": {},
   "outputs": [],
   "source": [
    "with open(\"./abudhabi_temperatures.json\") as f:\n",
    "    data = json.load(f)\n",
    "\n",
    "df = pd.DataFrame(data)"
   ]
  },
  {
   "cell_type": "markdown",
   "metadata": {},
   "source": [
    "The code below returns the first 5 rows of the DataFrame:"
   ]
  },
  {
   "cell_type": "code",
   "execution_count": null,
   "metadata": {},
   "outputs": [],
   "source": [
    "df.head()"
   ]
  },
  {
   "cell_type": "markdown",
   "metadata": {},
   "source": [
    "Conversely, this code returns the last 5 rows:"
   ]
  },
  {
   "cell_type": "code",
   "execution_count": null,
   "metadata": {},
   "outputs": [],
   "source": [
    "df.tail()"
   ]
  },
  {
   "cell_type": "markdown",
   "metadata": {},
   "source": [
    "Finally, the .plot() function can be used to plot graphs using data from the table.\n",
    "\n",
    "In this case, the .plot() function will plot Abu Dhabi's minimum and maximum temperatures:"
   ]
  },
  {
   "cell_type": "code",
   "execution_count": null,
   "metadata": {},
   "outputs": [],
   "source": [
    "df.plot(x='Date', y=['Minimum Temperature', 'Maximum Temperature'], figsize=(20, 10))"
   ]
  },
  {
   "cell_type": "markdown",
   "metadata": {},
   "source": [
    "### Madrid"
   ]
  },
  {
   "cell_type": "code",
   "execution_count": null,
   "metadata": {},
   "outputs": [],
   "source": [
    "with open(\"./madrid_temperatures.json\") as f:\n",
    "    data = json.load(f)\n",
    "\n",
    "df = pd.DataFrame(data)"
   ]
  },
  {
   "cell_type": "code",
   "execution_count": null,
   "metadata": {},
   "outputs": [],
   "source": [
    "df.head()"
   ]
  },
  {
   "cell_type": "code",
   "execution_count": null,
   "metadata": {},
   "outputs": [],
   "source": [
    "df.tail()"
   ]
  },
  {
   "cell_type": "code",
   "execution_count": null,
   "metadata": {},
   "outputs": [],
   "source": [
    "df.plot(x=\"Date\", y=[\"Minimum Temperature\", \"Maximum Temperature\"], figsize=(20, 10))"
   ]
  }
 ],
 "metadata": {
  "kernelspec": {
   "display_name": "base",
   "language": "python",
   "name": "python3"
  },
  "language_info": {
   "codemirror_mode": {
    "name": "ipython",
    "version": 3
   },
   "file_extension": ".py",
   "mimetype": "text/x-python",
   "name": "python",
   "nbconvert_exporter": "python",
   "pygments_lexer": "ipython3",
   "version": "3.11.8"
  }
 },
 "nbformat": 4,
 "nbformat_minor": 2
}
